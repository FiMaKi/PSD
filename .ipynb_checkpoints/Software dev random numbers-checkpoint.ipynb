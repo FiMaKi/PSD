{
 "cells": [
  {
   "cell_type": "code",
   "execution_count": 2,
   "id": "d2c5f600",
   "metadata": {},
   "outputs": [],
   "source": [
    "import random\n",
    "\n",
    "class RandomNumberGenerator:\n",
    "    \n",
    "    def generate_random_numbers(self, amount: int, minRange: int, maxRange: int) -> list:\n",
    "        \"\"\"\n",
    "        Generates a list of random numbers that meet the specified criteria.\n",
    "        :param amount: an integer specifying the number of random numbers to generate.\n",
    "        :param minRange: an integer specifying the minimum range of the random number.\n",
    "        :param maxRange: an integer specifying the maximum range of the random number.\n",
    "        :return: a list of random numbers that meet the specified criteria.\n",
    "        :pre-condition: amount, minRange, and maxRange must all be integers.\n",
    "        :post-condition: the method returns a list of random numbers that meet the specified criteria.\n",
    "        \"\"\"\n",
    "        result = []\n",
    "        for i in range(amount):\n",
    "            result.append(random.randint(minRange, maxRange))\n",
    "        return result\n"
   ]
  },
  {
   "cell_type": "code",
   "execution_count": 3,
   "id": "94d6f8c0",
   "metadata": {},
   "outputs": [
    {
     "name": "stdout",
     "output_type": "stream",
     "text": [
      "[36, 52, 61, 63, 78, 46, 41, 96, 1, 28]\n"
     ]
    }
   ],
   "source": [
    "rng = RandomNumberGenerator()\n",
    "random_numbers = rng.generate_random_numbers(10, 1, 100)\n",
    "print(random_numbers)\n"
   ]
  },
  {
   "cell_type": "code",
   "execution_count": 4,
   "id": "2074369b",
   "metadata": {},
   "outputs": [
    {
     "name": "stdout",
     "output_type": "stream",
     "text": [
      "[4, 10]\n"
     ]
    }
   ],
   "source": [
    "rng = RandomNumberGenerator()\n",
    "random_numbers = rng.generate_random_numbers(2, 1, 10)\n",
    "print(random_numbers)"
   ]
  },
  {
   "cell_type": "code",
   "execution_count": 5,
   "id": "675db97d",
   "metadata": {},
   "outputs": [
    {
     "name": "stdout",
     "output_type": "stream",
     "text": [
      "[-1, 1]\n"
     ]
    }
   ],
   "source": [
    "rng = RandomNumberGenerator()\n",
    "random_numbers = rng.generate_random_numbers(2, -1, 1)\n",
    "print(random_numbers)"
   ]
  },
  {
   "cell_type": "code",
   "execution_count": 6,
   "id": "37f36110",
   "metadata": {},
   "outputs": [
    {
     "name": "stdout",
     "output_type": "stream",
     "text": [
      "[58, 56, 37]\n"
     ]
    }
   ],
   "source": [
    "rng = RandomNumberGenerator()\n",
    "random_numbers = rng.generate_random_numbers(3, 0, 75)\n",
    "print(random_numbers)"
   ]
  },
  {
   "cell_type": "code",
   "execution_count": null,
   "id": "6e0e27f0",
   "metadata": {},
   "outputs": [],
   "source": []
  }
 ],
 "metadata": {
  "kernelspec": {
   "display_name": "Python 3",
   "language": "python",
   "name": "python3"
  },
  "language_info": {
   "codemirror_mode": {
    "name": "ipython",
    "version": 3
   },
   "file_extension": ".py",
   "mimetype": "text/x-python",
   "name": "python",
   "nbconvert_exporter": "python",
   "pygments_lexer": "ipython3",
   "version": "3.8.8"
  }
 },
 "nbformat": 4,
 "nbformat_minor": 5
}
