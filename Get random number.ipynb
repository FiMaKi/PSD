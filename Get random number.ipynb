{
 "cells": [
  {
   "cell_type": "code",
   "execution_count": null,
   "id": "ef195970",
   "metadata": {},
   "outputs": [],
   "source": [
    "import random\n",
    "\n",
    "#class for generating/selecting random numbers\n",
    "class GetNumberSimple():\n",
    "    def random_generator(amount = int, minrange = int, maxrange = int):\n",
    "        #Number of attempts\n",
    "        count = 1\n",
    "        while count <= amount:\n",
    "            number = random.randint(minrange, maxrange)\n",
    "            print (f'#{count} Random number between: {minrange} and {maxrange} is: {number}')\n",
    "            count += 1"
   ]
  },
  {
   "cell_type": "code",
   "execution_count": null,
   "id": "728c0f68",
   "metadata": {},
   "outputs": [],
   "source": [
    "GetNumberSimple.random_generator(3,5,100)"
   ]
  },
  {
   "cell_type": "code",
   "execution_count": null,
   "id": "d8f71f8c",
   "metadata": {},
   "outputs": [],
   "source": []
  },
  {
   "cell_type": "code",
   "execution_count": 18,
   "id": "0c4a9928",
   "metadata": {},
   "outputs": [],
   "source": [
    "import random\n",
    "\n",
    "class GetNumber:\n",
    "    #Preconditions, checking that min is less then max, raise error if not\n",
    "    def _preconditions(self, amount, minrange, maxrange):\n",
    "\n",
    "        if minrange > maxrange:\n",
    "            raise ValueError(\"minrange must be less than maxrange\")\n",
    "        # Second checks that the amount variable is a positive number\n",
    "        elif amount <= 0:\n",
    "            raise ValueError(\"Amount must be 1 or higher\")\n",
    "            \n",
    "    #postcondition, checking if right amount of var is provided and that new values are within range        \n",
    "    def _postconditions(self, list_of_random_numbers, amount, min_range, max_range):\n",
    "\n",
    "        if len(list_of_random_numbers) != amount:\n",
    "            raise Exception(\"List recieved incorrect amount of values\")\n",
    "\n",
    "        for numbers in list_of_random_numbers:\n",
    "            if numbers < min_range or numbers > max_range:\n",
    "                raise Exception(\"Random number is outside of the given range\")\n",
    "    \n",
    "    \n",
    "    def random_generator(self, amount: int, min_range: int, max_range: int):\n",
    "        #Calling precondition method\n",
    "        self._preconditions(amount, min_range, max_range)\n",
    "        \n",
    "        list_of_random_numbers = []\n",
    "        for i in range(amount):\n",
    "            value = random.randint(min_range, max_range)\n",
    "            list_of_random_numbers.append(value)\n",
    "\n",
    "        # Calls the postconditions method\n",
    "        self._postconditions(list_of_random_numbers, amount, min_range, max_range)\n",
    "\n",
    "        return list_of_random_numbers\n",
    "        \n",
    "\n",
    "                \n",
    "    "
   ]
  },
  {
   "cell_type": "code",
   "execution_count": 21,
   "id": "bcfe03fc",
   "metadata": {},
   "outputs": [
    {
     "ename": "ValueError",
     "evalue": "minrange must be less than maxrange",
     "output_type": "error",
     "traceback": [
      "\u001b[1;31m---------------------------------------------------------------------------\u001b[0m",
      "\u001b[1;31mValueError\u001b[0m                                Traceback (most recent call last)",
      "\u001b[1;32m<ipython-input-21-e877496039c2>\u001b[0m in \u001b[0;36m<module>\u001b[1;34m\u001b[0m\n\u001b[0;32m      1\u001b[0m \u001b[0mrunrandom\u001b[0m \u001b[1;33m=\u001b[0m \u001b[0mGetNumber\u001b[0m\u001b[1;33m(\u001b[0m\u001b[1;33m)\u001b[0m\u001b[1;33m\u001b[0m\u001b[1;33m\u001b[0m\u001b[0m\n\u001b[1;32m----> 2\u001b[1;33m \u001b[0mprint\u001b[0m\u001b[1;33m(\u001b[0m\u001b[0mrunrandom\u001b[0m\u001b[1;33m.\u001b[0m\u001b[0mrandom_generator\u001b[0m\u001b[1;33m(\u001b[0m\u001b[1;36m4\u001b[0m\u001b[1;33m,\u001b[0m \u001b[1;36m31\u001b[0m\u001b[1;33m,\u001b[0m \u001b[1;36m30\u001b[0m\u001b[1;33m)\u001b[0m\u001b[1;33m)\u001b[0m\u001b[1;33m\u001b[0m\u001b[1;33m\u001b[0m\u001b[0m\n\u001b[0m\u001b[0;32m      3\u001b[0m \u001b[0mprint\u001b[0m\u001b[1;33m(\u001b[0m\u001b[0mrunrandom\u001b[0m\u001b[1;33m.\u001b[0m\u001b[0mrandom_generator\u001b[0m\u001b[1;33m(\u001b[0m\u001b[1;36m3\u001b[0m\u001b[1;33m,\u001b[0m \u001b[1;36m2\u001b[0m\u001b[1;33m,\u001b[0m \u001b[1;36m10\u001b[0m\u001b[1;33m)\u001b[0m\u001b[1;33m)\u001b[0m\u001b[1;33m\u001b[0m\u001b[1;33m\u001b[0m\u001b[0m\n",
      "\u001b[1;32m<ipython-input-18-6f9671a77473>\u001b[0m in \u001b[0;36mrandom_generator\u001b[1;34m(self, amount, min_range, max_range)\u001b[0m\n\u001b[0;32m     24\u001b[0m     \u001b[1;32mdef\u001b[0m \u001b[0mrandom_generator\u001b[0m\u001b[1;33m(\u001b[0m\u001b[0mself\u001b[0m\u001b[1;33m,\u001b[0m \u001b[0mamount\u001b[0m\u001b[1;33m:\u001b[0m \u001b[0mint\u001b[0m\u001b[1;33m,\u001b[0m \u001b[0mmin_range\u001b[0m\u001b[1;33m:\u001b[0m \u001b[0mint\u001b[0m\u001b[1;33m,\u001b[0m \u001b[0mmax_range\u001b[0m\u001b[1;33m:\u001b[0m \u001b[0mint\u001b[0m\u001b[1;33m)\u001b[0m\u001b[1;33m:\u001b[0m\u001b[1;33m\u001b[0m\u001b[1;33m\u001b[0m\u001b[0m\n\u001b[0;32m     25\u001b[0m         \u001b[1;31m#Calling precondition method\u001b[0m\u001b[1;33m\u001b[0m\u001b[1;33m\u001b[0m\u001b[1;33m\u001b[0m\u001b[0m\n\u001b[1;32m---> 26\u001b[1;33m         \u001b[0mself\u001b[0m\u001b[1;33m.\u001b[0m\u001b[0m_preconditions\u001b[0m\u001b[1;33m(\u001b[0m\u001b[0mamount\u001b[0m\u001b[1;33m,\u001b[0m \u001b[0mmin_range\u001b[0m\u001b[1;33m,\u001b[0m \u001b[0mmax_range\u001b[0m\u001b[1;33m)\u001b[0m\u001b[1;33m\u001b[0m\u001b[1;33m\u001b[0m\u001b[0m\n\u001b[0m\u001b[0;32m     27\u001b[0m \u001b[1;33m\u001b[0m\u001b[0m\n\u001b[0;32m     28\u001b[0m         \u001b[0mlist_of_random_numbers\u001b[0m \u001b[1;33m=\u001b[0m \u001b[1;33m[\u001b[0m\u001b[1;33m]\u001b[0m\u001b[1;33m\u001b[0m\u001b[1;33m\u001b[0m\u001b[0m\n",
      "\u001b[1;32m<ipython-input-18-6f9671a77473>\u001b[0m in \u001b[0;36m_preconditions\u001b[1;34m(self, amount, minrange, maxrange)\u001b[0m\n\u001b[0;32m      6\u001b[0m \u001b[1;33m\u001b[0m\u001b[0m\n\u001b[0;32m      7\u001b[0m         \u001b[1;32mif\u001b[0m \u001b[0mminrange\u001b[0m \u001b[1;33m>\u001b[0m \u001b[0mmaxrange\u001b[0m\u001b[1;33m:\u001b[0m\u001b[1;33m\u001b[0m\u001b[1;33m\u001b[0m\u001b[0m\n\u001b[1;32m----> 8\u001b[1;33m             \u001b[1;32mraise\u001b[0m \u001b[0mValueError\u001b[0m\u001b[1;33m(\u001b[0m\u001b[1;34m\"minrange must be less than maxrange\"\u001b[0m\u001b[1;33m)\u001b[0m\u001b[1;33m\u001b[0m\u001b[1;33m\u001b[0m\u001b[0m\n\u001b[0m\u001b[0;32m      9\u001b[0m         \u001b[1;31m# Second checks that the amount variable is a positive number\u001b[0m\u001b[1;33m\u001b[0m\u001b[1;33m\u001b[0m\u001b[1;33m\u001b[0m\u001b[0m\n\u001b[0;32m     10\u001b[0m         \u001b[1;32melif\u001b[0m \u001b[0mamount\u001b[0m \u001b[1;33m<=\u001b[0m \u001b[1;36m0\u001b[0m\u001b[1;33m:\u001b[0m\u001b[1;33m\u001b[0m\u001b[1;33m\u001b[0m\u001b[0m\n",
      "\u001b[1;31mValueError\u001b[0m: minrange must be less than maxrange"
     ]
    }
   ],
   "source": [
    "runrandom = GetNumber()\n",
    "print(runrandom.random_generator(4, 31, 30))\n",
    "print(runrandom.random_generator(3, 2, 10))"
   ]
  },
  {
   "cell_type": "code",
   "execution_count": null,
   "id": "9a847a93",
   "metadata": {},
   "outputs": [],
   "source": []
  }
 ],
 "metadata": {
  "kernelspec": {
   "display_name": "Python 3",
   "language": "python",
   "name": "python3"
  },
  "language_info": {
   "codemirror_mode": {
    "name": "ipython",
    "version": 3
   },
   "file_extension": ".py",
   "mimetype": "text/x-python",
   "name": "python",
   "nbconvert_exporter": "python",
   "pygments_lexer": "ipython3",
   "version": "3.8.8"
  }
 },
 "nbformat": 4,
 "nbformat_minor": 5
}
